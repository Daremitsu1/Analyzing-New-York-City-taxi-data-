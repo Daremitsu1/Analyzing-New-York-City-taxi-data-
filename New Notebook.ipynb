{
 "cells": [
  {
   "cell_type": "markdown",
   "metadata": {},
   "source": [
    "### Analyzing New York City taxi data using big data tools"
   ]
  },
  {
   "cell_type": "markdown",
   "metadata": {
    "heading_collapsed": true
   },
   "source": [
    "#### 1. The NYC taxi data"
   ]
  },
  {
   "cell_type": "code",
   "execution_count": 1,
   "metadata": {
    "hidden": true
   },
   "outputs": [
    {
     "data": {
      "text/html": [
       "<div class=\"item_container\" style=\"height: auto; overflow: hidden; border: 1px solid #cfcfcf; border-radius: 2px; background: #f6fafa; line-height: 1.21429em; padding: 10px;\">\n",
       "                    <div class=\"item_left\" style=\"width: 210px; float: left;\">\n",
       "                       <a href='https://www.arcgis.com/home/item.html?id=fc1e5ebb323a401b825742314d76d1db' target='_blank'>\n",
       "                        <img src='https://www.arcgis.com/sharing/rest//content/items/fc1e5ebb323a401b825742314d76d1db/info/thumbnail/ago_downloaded.png' class=\"itemThumbnail\">\n",
       "                       </a>\n",
       "                    </div>\n",
       "\n",
       "                    <div class=\"item_right\"     style=\"float: none; width: auto; overflow: hidden;\">\n",
       "                        <a href='https://www.arcgis.com/home/item.html?id=fc1e5ebb323a401b825742314d76d1db' target='_blank'><b>NYC taxi subset</b>\n",
       "                        </a>\n",
       "                        <br/><img src='https://www.arcgis.com/home/js/jsapi/esri/css/images/item_type_icons/featureshosted16.png' style=\"vertical-align:middle;\">Feature Layer Collection by api_data_owner\n",
       "                        <br/>Last Modified: May 17, 2019\n",
       "                        <br/>0 comments, 1,315 views\n",
       "                    </div>\n",
       "                </div>\n",
       "                "
      ],
      "text/plain": [
       "<Item title:\"NYC taxi subset\" type:Feature Layer Collection owner:api_data_owner>"
      ]
     },
     "execution_count": 1,
     "metadata": {},
     "output_type": "execute_result"
    }
   ],
   "source": [
    "import arcgis\n",
    "from arcgis.gis import GIS\n",
    "\n",
    "ago_gis = GIS() # Connect to ArcGIS Online as an anonymous user\n",
    "search_subset = ago_gis.content.search(\"NYC_taxi_subset\", item_type = \"Feature Layer\")\n",
    "subset_item = search_subset[0]\n",
    "subset_item"
   ]
  },
  {
   "cell_type": "code",
   "execution_count": 2,
   "metadata": {
    "hidden": true
   },
   "outputs": [
    {
     "data": {
      "application/vnd.jupyter.widget-view+json": {
       "model_id": "d39007ebc181482bb1355635ea7565bf",
       "version_major": 2,
       "version_minor": 0
      },
      "text/plain": [
       "MapView(layout=Layout(height='400px', width='100%'))"
      ]
     },
     "metadata": {},
     "output_type": "display_data"
    },
    {
     "data": {
      "text/html": [
       "<div class=\"map-static-img-preview-4a25b4b4-9e36-48ba-99bb-fcb0274a5b8e\"><img src=\"\"></img></div>"
      ],
      "text/plain": [
       "<display.HTML object>"
      ]
     },
     "metadata": {},
     "output_type": "display_data"
    },
    {
     "data": {
      "text/html": [
       "<div class=\"map-html-embed-preview-4a25b4b4-9e36-48ba-99bb-fcb0274a5b8e\"></div>"
      ],
      "text/plain": [
       "<display.HTML object>"
      ]
     },
     "metadata": {},
     "output_type": "display_data"
    }
   ],
   "source": [
    "# Let us bring up a map to display the data.\n",
    "subset_map = ago_gis.map(\"New York, NY\", zoomlevel=11)\n",
    "subset_map"
   ]
  },
  {
   "cell_type": "code",
   "execution_count": 3,
   "metadata": {
    "hidden": true
   },
   "outputs": [],
   "source": [
    "subset_map.add_layer(subset_item)"
   ]
  },
  {
   "cell_type": "code",
   "execution_count": 4,
   "metadata": {
    "hidden": true
   },
   "outputs": [
    {
     "data": {
      "text/html": [
       "<div>\n",
       "<style scoped>\n",
       "    .dataframe tbody tr th:only-of-type {\n",
       "        vertical-align: middle;\n",
       "    }\n",
       "\n",
       "    .dataframe tbody tr th {\n",
       "        vertical-align: top;\n",
       "    }\n",
       "\n",
       "    .dataframe thead th {\n",
       "        text-align: right;\n",
       "    }\n",
       "</style>\n",
       "<table border=\"1\" class=\"dataframe\">\n",
       "  <thead>\n",
       "    <tr style=\"text-align: right;\">\n",
       "      <th></th>\n",
       "      <th>VendorID</th>\n",
       "      <th>tpep_pickup_datetime</th>\n",
       "      <th>tpep_dropoff_datetime</th>\n",
       "      <th>passenger_count</th>\n",
       "      <th>trip_distance</th>\n",
       "      <th>pickup_longitude</th>\n",
       "      <th>pickup_latitude</th>\n",
       "      <th>RateCodeID</th>\n",
       "      <th>store_and_fwd_flag</th>\n",
       "      <th>dropoff_longitude</th>\n",
       "      <th>dropoff_latitude</th>\n",
       "      <th>payment_type</th>\n",
       "      <th>fare_amount</th>\n",
       "      <th>extra</th>\n",
       "      <th>mta_tax</th>\n",
       "      <th>tip_amount</th>\n",
       "      <th>tolls_amount</th>\n",
       "      <th>improvement_surcharge</th>\n",
       "      <th>total_amount</th>\n",
       "      <th>ObjectId</th>\n",
       "      <th>SHAPE</th>\n",
       "    </tr>\n",
       "  </thead>\n",
       "  <tbody>\n",
       "    <tr>\n",
       "      <th>0</th>\n",
       "      <td>2</td>\n",
       "      <td>2015-01-02 19:06:46</td>\n",
       "      <td>2015-01-02 19:11:14</td>\n",
       "      <td>1</td>\n",
       "      <td>0.82</td>\n",
       "      <td>-74.005997</td>\n",
       "      <td>40.735241</td>\n",
       "      <td>1</td>\n",
       "      <td>N</td>\n",
       "      <td>-74.009720</td>\n",
       "      <td>40.725990</td>\n",
       "      <td>1</td>\n",
       "      <td>5.0</td>\n",
       "      <td>1</td>\n",
       "      <td>0.5</td>\n",
       "      <td>1.2</td>\n",
       "      <td>0</td>\n",
       "      <td>0.3</td>\n",
       "      <td>8.0</td>\n",
       "      <td>1</td>\n",
       "      <td>None</td>\n",
       "    </tr>\n",
       "    <tr>\n",
       "      <th>1</th>\n",
       "      <td>2</td>\n",
       "      <td>2015-01-25 13:39:51</td>\n",
       "      <td>2015-01-26 13:24:58</td>\n",
       "      <td>6</td>\n",
       "      <td>5.62</td>\n",
       "      <td>-73.984688</td>\n",
       "      <td>40.748192</td>\n",
       "      <td>1</td>\n",
       "      <td>N</td>\n",
       "      <td>-74.016289</td>\n",
       "      <td>40.704849</td>\n",
       "      <td>2</td>\n",
       "      <td>19.5</td>\n",
       "      <td>0</td>\n",
       "      <td>0.5</td>\n",
       "      <td>0.0</td>\n",
       "      <td>0</td>\n",
       "      <td>0.3</td>\n",
       "      <td>20.3</td>\n",
       "      <td>2</td>\n",
       "      <td>None</td>\n",
       "    </tr>\n",
       "    <tr>\n",
       "      <th>2</th>\n",
       "      <td>2</td>\n",
       "      <td>2015-01-13 09:10:38</td>\n",
       "      <td>2015-01-13 09:19:40</td>\n",
       "      <td>1</td>\n",
       "      <td>1.99</td>\n",
       "      <td>-73.967827</td>\n",
       "      <td>40.801315</td>\n",
       "      <td>1</td>\n",
       "      <td>N</td>\n",
       "      <td>-73.959618</td>\n",
       "      <td>40.782703</td>\n",
       "      <td>2</td>\n",
       "      <td>9.0</td>\n",
       "      <td>0</td>\n",
       "      <td>0.5</td>\n",
       "      <td>0.0</td>\n",
       "      <td>0</td>\n",
       "      <td>0.3</td>\n",
       "      <td>9.8</td>\n",
       "      <td>3</td>\n",
       "      <td>None</td>\n",
       "    </tr>\n",
       "    <tr>\n",
       "      <th>3</th>\n",
       "      <td>1</td>\n",
       "      <td>2015-01-06 10:55:08</td>\n",
       "      <td>2015-01-06 11:05:48</td>\n",
       "      <td>1</td>\n",
       "      <td>1.60</td>\n",
       "      <td>-73.967560</td>\n",
       "      <td>40.801228</td>\n",
       "      <td>1</td>\n",
       "      <td>N</td>\n",
       "      <td>-73.952980</td>\n",
       "      <td>40.819118</td>\n",
       "      <td>2</td>\n",
       "      <td>9.0</td>\n",
       "      <td>0</td>\n",
       "      <td>0.5</td>\n",
       "      <td>0.0</td>\n",
       "      <td>0</td>\n",
       "      <td>0.3</td>\n",
       "      <td>9.8</td>\n",
       "      <td>4</td>\n",
       "      <td>None</td>\n",
       "    </tr>\n",
       "  </tbody>\n",
       "</table>\n",
       "</div>"
      ],
      "text/plain": [
       "   VendorID tpep_pickup_datetime  ... ObjectId  SHAPE\n",
       "0         2  2015-01-02 19:06:46  ...        1   None\n",
       "1         2  2015-01-25 13:39:51  ...        2   None\n",
       "2         2  2015-01-13 09:10:38  ...        3   None\n",
       "3         1  2015-01-06 10:55:08  ...        4   None\n",
       "\n",
       "[4 rows x 21 columns]"
      ]
     },
     "execution_count": 4,
     "metadata": {},
     "output_type": "execute_result"
    }
   ],
   "source": [
    "subset_feature_layer = subset_item.layers[0]\n",
    "\n",
    "# query the attribute information. Limit to first 5 rows.\n",
    "query_result = subset_feature_layer.query(where = 'OBJECTID < 5',\n",
    "                                          out_fields = \"*\", \n",
    "                                          returnGeometry = False)\n",
    "\n",
    "att_data_frame = query_result.sdf # get as a Pandas dataframe\n",
    "att_data_frame"
   ]
  },
  {
   "cell_type": "markdown",
   "metadata": {
    "heading_collapsed": true
   },
   "source": [
    "#### 2. Searching for big data file shares"
   ]
  },
  {
   "cell_type": "code",
   "execution_count": 5,
   "metadata": {
    "hidden": true
   },
   "outputs": [],
   "source": [
    "# Let us connect to an ArcGIS Enterprise.\n",
    "\n",
    "gis = GIS('https://pythonapi.playground.esri.com/portal', 'arcgis_python', 'amazing_arcgis_123')"
   ]
  },
  {
   "cell_type": "code",
   "execution_count": 6,
   "metadata": {
    "hidden": true
   },
   "outputs": [
    {
     "data": {
      "text/plain": [
       "True"
      ]
     },
     "execution_count": 6,
     "metadata": {},
     "output_type": "execute_result"
    }
   ],
   "source": [
    "# Ensure that the Geoanalytics is supported with GIS.\n",
    "\n",
    "arcgis.geoanalytics.is_supported()"
   ]
  },
  {
   "cell_type": "code",
   "execution_count": 7,
   "metadata": {
    "hidden": true
   },
   "outputs": [],
   "source": [
    "# Get the geoanalytics datastores and search it for the registered datasets:\n",
    "\n",
    "datastores = arcgis.geoanalytics.get_datastores()"
   ]
  },
  {
   "cell_type": "code",
   "execution_count": 8,
   "metadata": {
    "hidden": true
   },
   "outputs": [
    {
     "data": {
      "text/plain": [
       "[<Datastore title:\"/bigDataFileShares/GA_Data\" type:\"bigDataFileShare\">]"
      ]
     },
     "execution_count": 8,
     "metadata": {},
     "output_type": "execute_result"
    }
   ],
   "source": [
    "bigdata_fileshares = datastores.search(id='0e7a861d-c1c5-4acc-869d-05d2cebbdbee')\n",
    "bigdata_fileshares"
   ]
  },
  {
   "cell_type": "code",
   "execution_count": 9,
   "metadata": {
    "hidden": true
   },
   "outputs": [],
   "source": [
    "# GA_Data is registered as a big data file share with the Geoanalytics datastore, so we can reference it:\n",
    "\n",
    "data_item = bigdata_fileshares[0]"
   ]
  },
  {
   "cell_type": "markdown",
   "metadata": {
    "heading_collapsed": true
   },
   "source": [
    "#### 3. Registering big data file shares"
   ]
  },
  {
   "cell_type": "code",
   "execution_count": 10,
   "metadata": {
    "hidden": true
   },
   "outputs": [
    {
     "data": {
      "text/plain": [
       "{'datasets': [{'name': 'air_quality', 'format': {'quoteChar': '\"', 'fieldDelimiter': ',', 'hasHeaderRow': True, 'encoding': 'UTF-8', 'escapeChar': '\"', 'recordTerminator': '\\n', 'type': 'delimited', 'extension': 'csv'}, 'schema': {'fields': [{'name': 'State Code', 'type': 'esriFieldTypeBigInteger'}, {'name': 'County Code', 'type': 'esriFieldTypeBigInteger'}, {'name': 'Site Num', 'type': 'esriFieldTypeBigInteger'}, {'name': 'Parameter Code', 'type': 'esriFieldTypeBigInteger'}, {'name': 'POC', 'type': 'esriFieldTypeBigInteger'}, {'name': 'Latitude', 'type': 'esriFieldTypeDouble'}, {'name': 'Longitude', 'type': 'esriFieldTypeDouble'}, {'name': 'Datum', 'type': 'esriFieldTypeString'}, {'name': 'Parameter Name', 'type': 'esriFieldTypeString'}, {'name': 'Date Local', 'type': 'esriFieldTypeString'}, {'name': 'Time Local', 'type': 'esriFieldTypeString'}, {'name': 'Date GMT', 'type': 'esriFieldTypeString'}, {'name': 'Time GMT', 'type': 'esriFieldTypeString'}, {'name': 'Sample Measurement', 'type': 'esriFieldTypeDouble'}, {'name': 'Units of Measure', 'type': 'esriFieldTypeString'}, {'name': 'MDL', 'type': 'esriFieldTypeDouble'}, {'name': 'Uncertainty', 'type': 'esriFieldTypeString'}, {'name': 'Qualifier', 'type': 'esriFieldTypeString'}, {'name': 'Method Type', 'type': 'esriFieldTypeString'}, {'name': 'Method Code', 'type': 'esriFieldTypeBigInteger'}, {'name': 'Method Name', 'type': 'esriFieldTypeString'}, {'name': 'State Name', 'type': 'esriFieldTypeString'}, {'name': 'County Name', 'type': 'esriFieldTypeString'}, {'name': 'Date of Last Change', 'type': 'esriFieldTypeString'}]}, 'geometry': {'geometryType': 'esriGeometryPoint', 'spatialReference': {'wkid': 102682, 'latestWkid': 3452}, 'fields': [{'name': 'Longitude', 'formats': ['x']}, {'name': 'Latitude', 'formats': ['y']}]}, 'time': {'timeType': 'instant', 'timeReference': {'timeZone': 'UTC'}, 'fields': [{'name': 'Date Local', 'formats': ['yyyy-MM-dd']}]}}, {'name': 'crime', 'format': {'quoteChar': '\"', 'fieldDelimiter': ',', 'hasHeaderRow': True, 'encoding': 'UTF-8', 'escapeChar': '\"', 'recordTerminator': '\\n', 'type': 'delimited', 'extension': 'csv'}, 'schema': {'fields': [{'name': 'ID', 'type': 'esriFieldTypeBigInteger'}, {'name': 'Case Number', 'type': 'esriFieldTypeString'}, {'name': 'Date', 'type': 'esriFieldTypeString'}, {'name': 'Block', 'type': 'esriFieldTypeString'}, {'name': 'IUCR', 'type': 'esriFieldTypeString'}, {'name': 'Primary Type', 'type': 'esriFieldTypeString'}, {'name': 'Description', 'type': 'esriFieldTypeString'}, {'name': 'Location Description', 'type': 'esriFieldTypeString'}, {'name': 'Arrest', 'type': 'esriFieldTypeString'}, {'name': 'Domestic', 'type': 'esriFieldTypeString'}, {'name': 'Beat', 'type': 'esriFieldTypeBigInteger'}, {'name': 'District', 'type': 'esriFieldTypeBigInteger'}, {'name': 'Ward', 'type': 'esriFieldTypeBigInteger'}, {'name': 'Community Area', 'type': 'esriFieldTypeBigInteger'}, {'name': 'FBI Code', 'type': 'esriFieldTypeString'}, {'name': 'X Coordinate', 'type': 'esriFieldTypeBigInteger'}, {'name': 'Y Coordinate', 'type': 'esriFieldTypeBigInteger'}, {'name': 'Year', 'type': 'esriFieldTypeBigInteger'}, {'name': 'Updated On', 'type': 'esriFieldTypeString'}, {'name': 'Latitude', 'type': 'esriFieldTypeDouble'}, {'name': 'Longitude', 'type': 'esriFieldTypeDouble'}, {'name': 'Location', 'type': 'esriFieldTypeString'}]}, 'geometry': {'geometryType': 'esriGeometryPoint', 'spatialReference': {'wkid': 4326}, 'fields': [{'name': 'Location', 'formats': ['({y},{x})']}]}, 'time': {'timeType': 'instant', 'timeReference': {'timeZone': 'UTC'}, 'fields': [{'name': 'Date', 'formats': ['MM/dd/yyyy hh:mm:ss a']}]}}, {'name': 'calls', 'format': {'quoteChar': '\"', 'fieldDelimiter': ',', 'hasHeaderRow': True, 'encoding': 'UTF-8', 'escapeChar': '\"', 'recordTerminator': '\\n', 'type': 'delimited', 'extension': 'csv'}, 'schema': {'fields': [{'name': 'NOPD_Item', 'type': 'esriFieldTypeString'}, {'name': 'Type_', 'type': 'esriFieldTypeString'}, {'name': 'TypeText', 'type': 'esriFieldTypeString'}, {'name': 'Priority', 'type': 'esriFieldTypeString'}, {'name': 'MapX', 'type': 'esriFieldTypeDouble'}, {'name': 'MapY', 'type': 'esriFieldTypeDouble'}, {'name': 'TimeCreate', 'type': 'esriFieldTypeString'}, {'name': 'TimeDispatch', 'type': 'esriFieldTypeString'}, {'name': 'TimeArrive', 'type': 'esriFieldTypeString'}, {'name': 'TimeClosed', 'type': 'esriFieldTypeString'}, {'name': 'Disposition', 'type': 'esriFieldTypeString'}, {'name': 'DispositionText', 'type': 'esriFieldTypeString'}, {'name': 'BLOCK_ADDRESS', 'type': 'esriFieldTypeString'}, {'name': 'Zip', 'type': 'esriFieldTypeBigInteger'}, {'name': 'PoliceDistrict', 'type': 'esriFieldTypeBigInteger'}, {'name': 'Location', 'type': 'esriFieldTypeString'}]}, 'time': {'timeType': 'instant', 'timeReference': {'timeZone': 'UTC'}, 'fields': [{'name': 'TimeDispatch', 'formats': ['epoch_millis']}]}}, {'name': 'analyze_new_york_city_taxi_data', 'format': {'quoteChar': '\"', 'fieldDelimiter': ',', 'hasHeaderRow': True, 'encoding': 'UTF-8', 'escapeChar': '\"', 'recordTerminator': '\\n', 'type': 'delimited', 'extension': 'csv'}, 'schema': {'fields': [{'name': 'VendorID', 'type': 'esriFieldTypeBigInteger'}, {'name': 'tpep_pickup_datetime', 'type': 'esriFieldTypeString'}, {'name': 'tpep_dropoff_datetime', 'type': 'esriFieldTypeString'}, {'name': 'passenger_count', 'type': 'esriFieldTypeBigInteger'}, {'name': 'trip_distance', 'type': 'esriFieldTypeDouble'}, {'name': 'pickup_longitude', 'type': 'esriFieldTypeDouble'}, {'name': 'pickup_latitude', 'type': 'esriFieldTypeDouble'}, {'name': 'RateCodeID', 'type': 'esriFieldTypeBigInteger'}, {'name': 'store_and_fwd_flag', 'type': 'esriFieldTypeString'}, {'name': 'dropoff_longitude', 'type': 'esriFieldTypeDouble'}, {'name': 'dropoff_latitude', 'type': 'esriFieldTypeDouble'}, {'name': 'payment_type', 'type': 'esriFieldTypeBigInteger'}, {'name': 'fare_amount', 'type': 'esriFieldTypeDouble'}, {'name': 'extra', 'type': 'esriFieldTypeDouble'}, {'name': 'mta_tax', 'type': 'esriFieldTypeDouble'}, {'name': 'tip_amount', 'type': 'esriFieldTypeDouble'}, {'name': 'tolls_amount', 'type': 'esriFieldTypeDouble'}, {'name': 'improvement_surcharge', 'type': 'esriFieldTypeDouble'}, {'name': 'total_amount', 'type': 'esriFieldTypeDouble'}]}, 'geometry': {'geometryType': 'esriGeometryPoint', 'spatialReference': {'wkid': 4326}, 'fields': [{'name': 'pickup_longitude', 'formats': ['x']}, {'name': 'pickup_latitude', 'formats': ['y']}]}, 'time': {'timeType': 'instant', 'timeReference': {'timeZone': 'UTC'}, 'fields': [{'name': 'tpep_pickup_datetime', 'formats': ['yyyy-MM-dd HH:mm:ss']}]}}]}"
      ]
     },
     "execution_count": 10,
     "metadata": {},
     "output_type": "execute_result"
    }
   ],
   "source": [
    "data_item.manifest"
   ]
  },
  {
   "cell_type": "code",
   "execution_count": 11,
   "metadata": {
    "hidden": true
   },
   "outputs": [
    {
     "data": {
      "text/plain": [
       "{'name': 'analyze_new_york_city_taxi_data', 'format': {'quoteChar': '\"', 'fieldDelimiter': ',', 'hasHeaderRow': True, 'encoding': 'UTF-8', 'escapeChar': '\"', 'recordTerminator': '\\n', 'type': 'delimited', 'extension': 'csv'}, 'schema': {'fields': [{'name': 'VendorID', 'type': 'esriFieldTypeBigInteger'}, {'name': 'tpep_pickup_datetime', 'type': 'esriFieldTypeString'}, {'name': 'tpep_dropoff_datetime', 'type': 'esriFieldTypeString'}, {'name': 'passenger_count', 'type': 'esriFieldTypeBigInteger'}, {'name': 'trip_distance', 'type': 'esriFieldTypeDouble'}, {'name': 'pickup_longitude', 'type': 'esriFieldTypeDouble'}, {'name': 'pickup_latitude', 'type': 'esriFieldTypeDouble'}, {'name': 'RateCodeID', 'type': 'esriFieldTypeBigInteger'}, {'name': 'store_and_fwd_flag', 'type': 'esriFieldTypeString'}, {'name': 'dropoff_longitude', 'type': 'esriFieldTypeDouble'}, {'name': 'dropoff_latitude', 'type': 'esriFieldTypeDouble'}, {'name': 'payment_type', 'type': 'esriFieldTypeBigInteger'}, {'name': 'fare_amount', 'type': 'esriFieldTypeDouble'}, {'name': 'extra', 'type': 'esriFieldTypeDouble'}, {'name': 'mta_tax', 'type': 'esriFieldTypeDouble'}, {'name': 'tip_amount', 'type': 'esriFieldTypeDouble'}, {'name': 'tolls_amount', 'type': 'esriFieldTypeDouble'}, {'name': 'improvement_surcharge', 'type': 'esriFieldTypeDouble'}, {'name': 'total_amount', 'type': 'esriFieldTypeDouble'}]}, 'geometry': {'geometryType': 'esriGeometryPoint', 'spatialReference': {'wkid': 4326}, 'fields': [{'name': 'pickup_longitude', 'formats': ['x']}, {'name': 'pickup_latitude', 'formats': ['y']}]}, 'time': {'timeType': 'instant', 'timeReference': {'timeZone': 'UTC'}, 'fields': [{'name': 'tpep_pickup_datetime', 'formats': ['yyyy-MM-dd HH:mm:ss']}]}}"
      ]
     },
     "execution_count": 11,
     "metadata": {},
     "output_type": "execute_result"
    }
   ],
   "source": [
    "# Since this big data file share has multiple datasets, let's check the manifest for the taxi dataset.\n",
    "\n",
    "data_item.manifest['datasets'][3]"
   ]
  },
  {
   "cell_type": "markdown",
   "metadata": {},
   "source": [
    "#### 4. Performing data aggregation"
   ]
  },
  {
   "cell_type": "code",
   "execution_count": 12,
   "metadata": {},
   "outputs": [
    {
     "data": {
      "text/plain": [
       "[<Item title:\"bigDataFileShares_GA_Data\" type:Big Data File Share owner:arcgis_python>, <Item title:\"bigDataFileShares_GA_Data\" type:Big Data File Share owner:arcgis_python>, <Item title:\"bigDataFileShares_GA_Data\" type:Big Data File Share owner:api_data_owner>]"
      ]
     },
     "execution_count": 12,
     "metadata": {},
     "output_type": "execute_result"
    }
   ],
   "source": [
    "search_result = gis.content.search(\"bigDataFileShares_GA_Data\", item_type = \"big data file share\")\n",
    "search_result"
   ]
  },
  {
   "cell_type": "code",
   "execution_count": 13,
   "metadata": {},
   "outputs": [
    {
     "data": {
      "text/html": [
       "<div class=\"item_container\" style=\"height: auto; overflow: hidden; border: 1px solid #cfcfcf; border-radius: 2px; background: #f6fafa; line-height: 1.21429em; padding: 10px;\">\n",
       "                    <div class=\"item_left\" style=\"width: 210px; float: left;\">\n",
       "                       <a href='https://pythonapi.playground.esri.com/portal/home/item.html?id=8ac8edddff084ca89db738567d190798' target='_blank'>\n",
       "                        <img src='https://pythonapi.playground.esri.com/portal/portalimages/desktopapp.png' class=\"itemThumbnail\">\n",
       "                       </a>\n",
       "                    </div>\n",
       "\n",
       "                    <div class=\"item_right\"     style=\"float: none; width: auto; overflow: hidden;\">\n",
       "                        <a href='https://pythonapi.playground.esri.com/portal/home/item.html?id=8ac8edddff084ca89db738567d190798' target='_blank'><b>bigDataFileShares_GA_Data</b>\n",
       "                        </a>\n",
       "                        <br/><img src='https://pythonapi.playground.esri.com/portal/home/js/jsapi/esri/css/images/item_type_icons/layers16.png' style=\"vertical-align:middle;\">Big Data File Share by arcgis_python\n",
       "                        <br/>Last Modified: May 27, 2021\n",
       "                        <br/>0 comments, 0 views\n",
       "                    </div>\n",
       "                </div>\n",
       "                "
      ],
      "text/plain": [
       "<Item title:\"bigDataFileShares_GA_Data\" type:Big Data File Share owner:arcgis_python>"
      ]
     },
     "execution_count": 13,
     "metadata": {},
     "output_type": "execute_result"
    }
   ],
   "source": [
    "data_item = search_result[0]\n",
    "data_item"
   ]
  },
  {
   "cell_type": "code",
   "execution_count": 14,
   "metadata": {},
   "outputs": [
    {
     "data": {
      "text/plain": [
       "[<Layer url:\"https://pythonapi.playground.esri.com/ga/rest/services/DataStoreCatalogs/bigDataFileShares_GA_Data/BigDataCatalogServer/air_quality\">, <Layer url:\"https://pythonapi.playground.esri.com/ga/rest/services/DataStoreCatalogs/bigDataFileShares_GA_Data/BigDataCatalogServer/crime\">, <Layer url:\"https://pythonapi.playground.esri.com/ga/rest/services/DataStoreCatalogs/bigDataFileShares_GA_Data/BigDataCatalogServer/calls\">, <Layer url:\"https://pythonapi.playground.esri.com/ga/rest/services/DataStoreCatalogs/bigDataFileShares_GA_Data/BigDataCatalogServer/analyze_new_york_city_taxi_data\">]"
      ]
     },
     "execution_count": 14,
     "metadata": {},
     "output_type": "execute_result"
    }
   ],
   "source": [
    "data_item.layers"
   ]
  },
  {
   "cell_type": "code",
   "execution_count": 15,
   "metadata": {},
   "outputs": [
    {
     "data": {
      "text/plain": [
       "<Layer url:\"https://pythonapi.playground.esri.com/ga/rest/services/DataStoreCatalogs/bigDataFileShares_GA_Data/BigDataCatalogServer/analyze_new_york_city_taxi_data\">"
      ]
     },
     "execution_count": 15,
     "metadata": {},
     "output_type": "execute_result"
    }
   ],
   "source": [
    "year_2015 = data_item.layers[3]\n",
    "year_2015"
   ]
  },
  {
   "cell_type": "markdown",
   "metadata": {},
   "source": [
    "#### 5. Aggregate points tool"
   ]
  },
  {
   "cell_type": "code",
   "execution_count": 16,
   "metadata": {},
   "outputs": [],
   "source": [
    "from arcgis.geoanalytics.summarize_data import aggregate_points"
   ]
  },
  {
   "cell_type": "code",
   "execution_count": 17,
   "metadata": {},
   "outputs": [
    {
     "data": {
      "text/plain": [
       "{'wkid': 4326}"
      ]
     },
     "execution_count": 17,
     "metadata": {},
     "output_type": "execute_result"
    }
   ],
   "source": [
    "year_2015.properties['spatialReference']"
   ]
  },
  {
   "cell_type": "code",
   "execution_count": 18,
   "metadata": {},
   "outputs": [],
   "source": [
    "arcgis.env.process_spatial_reference=3857"
   ]
  },
  {
   "cell_type": "code",
   "execution_count": 19,
   "metadata": {},
   "outputs": [],
   "source": [
    "arcgis.env.verbose = True"
   ]
  },
  {
   "cell_type": "code",
   "execution_count": 38,
   "metadata": {},
   "outputs": [
    {
     "ename": "JSONDecodeError",
     "evalue": "Expecting value: line 1 column 1 (char 0)",
     "output_type": "error",
     "traceback": [
      "\u001b[0;31m---------------------------------------------------------------------------\u001b[0m\n\u001b[0;31mJSONDecodeError\u001b[0m                           Traceback (most recent call last)",
      "In  \u001b[0;34m[38]\u001b[0m:\nLine \u001b[0;34m1\u001b[0m:     agg_result = aggregate_points(year_2015)\n",
      "File \u001b[0;34mC:\\Program Files\\ArcGIS\\Pro\\bin\\Python\\envs\\arcgispro-py3\\lib\\site-packages\\arcgis\\geoanalytics\\summarize_data.py\u001b[0m, in \u001b[0;32maggregate_points\u001b[0m:\nLine \u001b[0;34m612\u001b[0m:   output_datastore=output_datastore)\n",
      "File \u001b[0;34mC:\\Program Files\\ArcGIS\\Pro\\bin\\Python\\envs\\arcgispro-py3\\lib\\site-packages\\arcgis\\geoanalytics\\_util.py\u001b[0m, in \u001b[0;32m_create_output_service\u001b[0m:\nLine \u001b[0;34m134\u001b[0m:   output_service = gis.content.create_service(output_name, create_params=createParameters, service_type=\u001b[33m\"\u001b[39;49;00m\u001b[33mfeatureService\u001b[39;49;00m\u001b[33m\"\u001b[39;49;00m)\n",
      "File \u001b[0;34mC:\\Program Files\\ArcGIS\\Pro\\bin\\Python\\envs\\arcgispro-py3\\lib\\site-packages\\arcgis\\gis\\__init__.py\u001b[0m, in \u001b[0;32mcreate_service\u001b[0m:\nLine \u001b[0;34m4524\u001b[0m:  is_view, item_id, tags, snippet)\n",
      "File \u001b[0;34mC:\\Program Files\\ArcGIS\\Pro\\bin\\Python\\envs\\arcgispro-py3\\lib\\site-packages\\arcgis\\gis\\_impl\\_portalpy.py\u001b[0m, in \u001b[0;32mcreate_service\u001b[0m:\nLine \u001b[0;34m505\u001b[0m:   resp = \u001b[36mself\u001b[39;49;00m.con.post(path, postdata)\n",
      "File \u001b[0;34mC:\\Program Files\\ArcGIS\\Pro\\bin\\Python\\envs\\arcgispro-py3\\lib\\site-packages\\arcgis\\gis\\_impl\\_con\\_connection.py\u001b[0m, in \u001b[0;32mpost\u001b[0m:\nLine \u001b[0;34m720\u001b[0m:   force_bytes=kwargs.pop(\u001b[33m'\u001b[39;49;00m\u001b[33mforce_bytes\u001b[39;49;00m\u001b[33m'\u001b[39;49;00m, \u001b[34mFalse\u001b[39;49;00m))\n",
      "File \u001b[0;34mC:\\Program Files\\ArcGIS\\Pro\\bin\\Python\\envs\\arcgispro-py3\\lib\\site-packages\\arcgis\\gis\\_impl\\_con\\_connection.py\u001b[0m, in \u001b[0;32m_handle_response\u001b[0m:\nLine \u001b[0;34m504\u001b[0m:   data = resp.json()\n",
      "File \u001b[0;34mC:\\Program Files\\ArcGIS\\Pro\\bin\\Python\\envs\\arcgispro-py3\\lib\\site-packages\\requests\\models.py\u001b[0m, in \u001b[0;32mjson\u001b[0m:\nLine \u001b[0;34m900\u001b[0m:   \u001b[34mreturn\u001b[39;49;00m complexjson.loads(\u001b[36mself\u001b[39;49;00m.text, **kwargs)\n",
      "File \u001b[0;34mC:\\Program Files\\ArcGIS\\Pro\\bin\\Python\\envs\\arcgispro-py3\\lib\\json\\__init__.py\u001b[0m, in \u001b[0;32mloads\u001b[0m:\nLine \u001b[0;34m348\u001b[0m:   \u001b[34mreturn\u001b[39;49;00m _default_decoder.decode(s)\n",
      "File \u001b[0;34mC:\\Program Files\\ArcGIS\\Pro\\bin\\Python\\envs\\arcgispro-py3\\lib\\json\\decoder.py\u001b[0m, in \u001b[0;32mdecode\u001b[0m:\nLine \u001b[0;34m337\u001b[0m:   obj, end = \u001b[36mself\u001b[39;49;00m.raw_decode(s, idx=_w(s, \u001b[34m0\u001b[39;49;00m).end())\n",
      "File \u001b[0;34mC:\\Program Files\\ArcGIS\\Pro\\bin\\Python\\envs\\arcgispro-py3\\lib\\json\\decoder.py\u001b[0m, in \u001b[0;32mraw_decode\u001b[0m:\nLine \u001b[0;34m355\u001b[0m:   \u001b[34mraise\u001b[39;49;00m JSONDecodeError(\u001b[33m\"\u001b[39;49;00m\u001b[33mExpecting value\u001b[39;49;00m\u001b[33m\"\u001b[39;49;00m, s, err.value) \u001b[34mfrom\u001b[39;49;00m \u001b[36mNone\u001b[39;49;00m\n",
      "\u001b[0;31mJSONDecodeError\u001b[0m: Expecting value: line 1 column 1 (char 0)\n\u001b[0;31m---------------------------------------------------------------------------\u001b[0m"
     ]
    }
   ],
   "source": [
    "agg_result = aggregate_points(year_2015)"
   ]
  },
  {
   "cell_type": "markdown",
   "metadata": {},
   "source": [
    "#### 6. Inspect the results"
   ]
  },
  {
   "cell_type": "code",
   "execution_count": 22,
   "metadata": {},
   "outputs": [
    {
     "data": {
      "application/vnd.jupyter.widget-view+json": {
       "model_id": "230a031720cf4e7c8fd1d07f0c544285",
       "version_major": 2,
       "version_minor": 0
      },
      "text/plain": [
       "MapView(layout=Layout(height='400px', width='100%'))"
      ]
     },
     "metadata": {},
     "output_type": "display_data"
    },
    {
     "data": {
      "text/html": [
       "<div class=\"map-static-img-preview-b73c5ce5-7419-4cc9-ae8e-54cd5252849f\"><img src=\"\"></img></div>"
      ],
      "text/plain": [
       "<display.HTML object>"
      ]
     },
     "metadata": {},
     "output_type": "display_data"
    },
    {
     "data": {
      "text/html": [
       "<div class=\"map-html-embed-preview-b73c5ce5-7419-4cc9-ae8e-54cd5252849f\"></div>"
      ],
      "text/plain": [
       "<display.HTML object>"
      ]
     },
     "metadata": {},
     "output_type": "display_data"
    }
   ],
   "source": [
    "# Create a map and load the processed result which is a \n",
    "processed_map = gis.map('New York, NY', 11)\n",
    "processed_map"
   ]
  },
  {
   "cell_type": "code",
   "execution_count": 36,
   "metadata": {},
   "outputs": [
    {
     "ename": "RuntimeError",
     "evalue": "Cannot infer layer: will not be added to map",
     "output_type": "error",
     "traceback": [
      "\u001b[0;31m---------------------------------------------------------------------------\u001b[0m\n\u001b[0;31mRuntimeError\u001b[0m                              Traceback (most recent call last)",
      "In  \u001b[0;34m[36]\u001b[0m:\nLine \u001b[0;34m1\u001b[0m:     processed_map.add_layer(agg_result)\n",
      "File \u001b[0;34mC:\\Program Files\\ArcGIS\\Pro\\bin\\Python\\envs\\arcgispro-py3\\lib\\site-packages\\arcgis\\widgets\\_mapview\\_mapview.py\u001b[0m, in \u001b[0;32madd_layer\u001b[0m:\nLine \u001b[0;34m1153\u001b[0m:  \u001b[36mself\u001b[39;49;00m._add_layer_to_widget(item, options)\n",
      "File \u001b[0;34mC:\\Program Files\\ArcGIS\\Pro\\bin\\Python\\envs\\arcgispro-py3\\lib\\site-packages\\arcgis\\widgets\\_mapview\\_mapview.py\u001b[0m, in \u001b[0;32m_add_layer_to_widget\u001b[0m:\nLine \u001b[0;34m1263\u001b[0m:  \u001b[34mraise\u001b[39;49;00m \u001b[36mRuntimeError\u001b[39;49;00m(\u001b[33m\"\u001b[39;49;00m\u001b[33mCannot infer layer: will not be added to map\u001b[39;49;00m\u001b[33m\"\u001b[39;49;00m)\n",
      "\u001b[0;31mRuntimeError\u001b[0m: Cannot infer layer: will not be added to map\n\u001b[0;31m---------------------------------------------------------------------------\u001b[0m"
     ]
    }
   ],
   "source": [
    "processed_map.add_layer(agg_result)"
   ]
  },
  {
   "cell_type": "code",
   "execution_count": 37,
   "metadata": {},
   "outputs": [
    {
     "ename": "AttributeError",
     "evalue": "'function' object has no attribute 'share'",
     "output_type": "error",
     "traceback": [
      "\u001b[0;31m---------------------------------------------------------------------------\u001b[0m\n\u001b[0;31mAttributeError\u001b[0m                            Traceback (most recent call last)",
      "In  \u001b[0;34m[37]\u001b[0m:\nLine \u001b[0;34m1\u001b[0m:     agg_result.share(org=\u001b[34mTrue\u001b[39;49;00m)\n",
      "\u001b[0;31mAttributeError\u001b[0m: 'function' object has no attribute 'share'\n\u001b[0;31m---------------------------------------------------------------------------\u001b[0m"
     ]
    }
   ],
   "source": [
    "agg_result.share(org=True)"
   ]
  },
  {
   "cell_type": "code",
   "execution_count": null,
   "metadata": {},
   "outputs": [],
   "source": []
  }
 ],
 "metadata": {
  "kernelspec": {
   "display_name": "ArcGISPro",
   "language": "Python",
   "name": "python3"
  },
  "language_info": {
   "file_extension": ".py",
   "name": "python",
   "version": "3"
  }
 },
 "nbformat": 4,
 "nbformat_minor": 2
}
